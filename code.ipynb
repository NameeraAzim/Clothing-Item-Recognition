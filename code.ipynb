{
  "nbformat": 4,
  "nbformat_minor": 0,
  "metadata": {
    "colab": {
      "provenance": [],
      "machine_shape": "hm",
      "gpuType": "L4"
    },
    "kernelspec": {
      "name": "python3",
      "display_name": "Python 3"
    },
    "language_info": {
      "name": "python"
    },
    "accelerator": "GPU"
  },
  "cells": [
    {
      "cell_type": "markdown",
      "source": [
        "# Project 3"
      ],
      "metadata": {
        "id": "ytzFel1JLCaS"
      }
    },
    {
      "cell_type": "code",
      "source": [
        "# Import the required packages\n",
        "import os\n",
        "import torch\n",
        "import torchvision\n",
        "import cv2\n",
        "import numpy as np\n",
        "import random\n",
        "import torchvision.transforms.functional as F\n",
        "from torchvision.io import read_image\n",
        "from torchvision.ops.boxes import masks_to_boxes\n",
        "from PIL import Image\n",
        "from torchvision.models.detection.faster_rcnn import FastRCNNPredictor\n",
        "from torchvision.models.detection.mask_rcnn import MaskRCNNPredictor\n",
        "import matplotlib.pyplot as plt"
      ],
      "metadata": {
        "id": "gJXPoMhi0HWP"
      },
      "execution_count": null,
      "outputs": []
    },
    {
      "cell_type": "code",
      "source": [
        "# Mount Google Drive. This notebook was prepared on Google Colab. The package for project 3 was uploaded to Google Drive.\n",
        "from google.colab import drive\n",
        "drive.mount('/content/drive')"
      ],
      "metadata": {
        "colab": {
          "base_uri": "https://localhost:8080/"
        },
        "id": "bUilkq1gxRZW",
        "outputId": "58016d31-2b37-4f95-fee7-0d5782c0805a"
      },
      "execution_count": null,
      "outputs": [
        {
          "output_type": "stream",
          "name": "stdout",
          "text": [
            "Mounted at /content/drive\n"
          ]
        }
      ]
    },
    {
      "cell_type": "code",
      "source": [
        "# GPU will be used throughout this notebook if available. If not, CPU will be used.\n",
        "device = torch.device('cuda') if torch.cuda.is_available() else torch.device('cpu')"
      ],
      "metadata": {
        "id": "oR0IHfHL3vH_"
      },
      "execution_count": null,
      "outputs": []
    },
    {
      "cell_type": "markdown",
      "source": [
        "## Data Loading"
      ],
      "metadata": {
        "id": "ZwMZC_jz0DxC"
      }
    },
    {
      "cell_type": "code",
      "source": [
        "# Initialize the list to hold all images for training.\n",
        "imgs_training = []\n",
        "# List of names of all image files.\n",
        "all_image_files = list(sorted(os.listdir(os.path.join(\"drive\", \"MyDrive\", \"project3\", \"images\"))))\n",
        "# 50% of the image files are selected for training.\n",
        "image_files = all_image_files[:300]\n",
        "\n",
        "# Iterate over each image to load and store in the list.\n",
        "for image_file in image_files:\n",
        "    img = cv2.imread(os.path.join(\"drive\", \"MyDrive\", \"project3\", \"images\", image_file))\n",
        "    # The pixel values are normalized to be within the range [0,1].\n",
        "    img_tensor = torch.as_tensor(img, dtype=torch.float32) / 255.0\n",
        "    imgs_training.append(img_tensor)\n",
        "\n",
        "# Stack the list of tensors into a single tensor.\n",
        "imgs_training = torch.stack(imgs_training, 0)\n",
        "# Axes are swapped to comply with the input requirements of the model.\n",
        "imgs_training = imgs_training.swapaxes(1, 3).swapaxes(2, 3)"
      ],
      "metadata": {
        "id": "hgwKlJQJMIS0"
      },
      "execution_count": null,
      "outputs": []
    },
    {
      "cell_type": "code",
      "source": [
        "# List of names of all mask files.\n",
        "all_mask_files_person = sorted([file for file in os.listdir(os.path.join(\"drive\", \"MyDrive\", \"project3\", \"labels\")) if \"_person\" in file])\n",
        "# 50% of the mask files are selected for training.\n",
        "mask_files_person = all_mask_files_person[:300]\n",
        "# Initialize the list to hold all targets for training.\n",
        "targets_person_training = []\n",
        "\n",
        "# Iterate over each mask file to load and store in the list.\n",
        "for mask_file in mask_files_person:\n",
        "    mask = read_image(os.path.join(\"drive\", \"MyDrive\", \"project3\", \"labels\", mask_file))\n",
        "    target = {}\n",
        "    # Unique object IDs, i.e. labels, in the mask.\n",
        "    obj_ids = torch.unique(mask)\n",
        "    # 0 refers to the background and does not need to be included in the target.\n",
        "    obj_ids = obj_ids[1:]\n",
        "\n",
        "    # Create boolean masks indicating where elements of the `mask` tensor match any of the object IDs in `obj_ids`.\n",
        "    # Each element of `target_masks` corresponds to whether the corresponding element in `mask` matches any object ID.\n",
        "    target_masks = (mask == obj_ids[:, None, None]).to(dtype=torch.uint8)\n",
        "    target[\"masks\"] = torch.as_tensor(target_masks, dtype=torch.uint8)\n",
        "\n",
        "    # The bounding boxes of the objects in the mask.\n",
        "    target[\"boxes\"] = masks_to_boxes(target_masks)\n",
        "\n",
        "    # Unique labels in the mask without the background.\n",
        "    labels = torch.unique(mask.flatten())\n",
        "    labels = labels[1:]\n",
        "    target[\"labels\"] = labels.to(torch.int64)\n",
        "\n",
        "    # Append the target to the list.\n",
        "    targets_person_training.append(target)"
      ],
      "metadata": {
        "id": "2IpjVmyOEPLK"
      },
      "execution_count": null,
      "outputs": []
    },
    {
      "cell_type": "code",
      "source": [
        "# List of names of all mask files.\n",
        "all_mask_files_clothes = sorted([file for file in os.listdir(os.path.join(\"drive\", \"MyDrive\", \"project3\", \"labels\")) if \"_clothes\" in file])\n",
        "# 50% of the mask files are selected for training.\n",
        "mask_files_clothes = all_mask_files_clothes[:300]\n",
        "# Initialize the list to hold all targets for training.\n",
        "targets_clothes_training = []\n",
        "\n",
        "# Iterate over each mask file to load and store in the list.\n",
        "for mask_file in mask_files_clothes:\n",
        "    mask = read_image(os.path.join(\"drive\", \"MyDrive\", \"project3\", \"labels\", mask_file))\n",
        "    target = {}\n",
        "    # Unique object IDs, i.e. labels, in the mask.\n",
        "    obj_ids = torch.unique(mask)\n",
        "    # 0 refers to the background and does not need to be included in the target.\n",
        "    obj_ids = obj_ids[1:]\n",
        "\n",
        "    # Create boolean masks indicating where elements of the `mask` tensor match any of the object IDs in `obj_ids`.\n",
        "    # Each element of `target_masks` corresponds to whether the corresponding element in `mask` matches any object ID.\n",
        "    target_masks = (mask == obj_ids[:, None, None]).to(dtype=torch.uint8)\n",
        "    target[\"masks\"] = torch.as_tensor(target_masks, dtype=torch.uint8)\n",
        "\n",
        "    # The bounding boxes of the objects in the mask.\n",
        "    target[\"boxes\"] = masks_to_boxes(target_masks)\n",
        "\n",
        "    # Unique labels in the mask without the background.\n",
        "    labels = torch.unique(mask.flatten())\n",
        "    labels = labels[1:]\n",
        "    target[\"labels\"] = labels.to(torch.int64)\n",
        "\n",
        "    # Append the target to the list.\n",
        "    targets_clothes_training.append(target)"
      ],
      "metadata": {
        "id": "2LNzpqd_EMxF"
      },
      "execution_count": null,
      "outputs": []
    },
    {
      "cell_type": "markdown",
      "source": [
        "## Pixel Labeling of a Person"
      ],
      "metadata": {
        "id": "z4tR2L3q0XdZ"
      }
    },
    {
      "cell_type": "markdown",
      "source": [
        "### Model"
      ],
      "metadata": {
        "id": "xAHX7jal0tZU"
      }
    },
    {
      "cell_type": "code",
      "source": [
        "# Mask R-CNN model from the torchvision library with pre-trained weights is loaded.\n",
        "model_person = torchvision.models.detection.maskrcnn_resnet50_fpn(pretrained=True)\n",
        "# Number of input features for the classifier.\n",
        "in_features = model_person.roi_heads.box_predictor.cls_score.in_features\n",
        "# There are two classes in this model including 'background'.\n",
        "model_person.roi_heads.box_predictor = FastRCNNPredictor(in_features,num_classes=2)\n",
        "model_person.to(device)\n",
        "\n",
        "# Initialize an AdamW optimizer for updating the parameters of the model.\n",
        "optimizer = torch.optim.AdamW(params=model_person.parameters(), lr=0.0001)\n",
        "\n",
        "model_person.train()\n",
        "\n",
        "# List to store loss values to be used in displaying the learning curve.\n",
        "losses_list = []\n",
        "\n",
        "#Iterate through each epoch.\n",
        "for i in range(11): #INITIALLY SET TO 101\n",
        "    #Randomly select 10 images from the training set.\n",
        "    random_numbers = [random.randint(0, 299) for x in range(10)]\n",
        "    curr_imgs_training = [imgs_training[j] for j in random_numbers]\n",
        "    images = list(image.to(device) for image in curr_imgs_training)\n",
        "    curr_targets_person_training = [targets_person_training[j] for j in random_numbers]\n",
        "    targets = [{k: v.to(device) for k, v in t.items()} for t in curr_targets_person_training]\n",
        "\n",
        "    # Reset the gradients of the parameter to prepare for the next batch.\n",
        "    optimizer.zero_grad()\n",
        "\n",
        "    # Forward pass to get the loss.\n",
        "    loss_dict = model_person(images, targets)\n",
        "\n",
        "    # Calculate the total loss.\n",
        "    losses = sum(loss for loss in loss_dict.values())\n",
        "\n",
        "    # Backward pass to calculate the gradients.\n",
        "    losses.backward()\n",
        "\n",
        "    # Take a single optimization step to update the model parameters based on computed gradients and the optimizer's update rule.\n",
        "    optimizer.step()\n",
        "\n",
        "    losses_list.append(losses.item())\n",
        "    if i%10==0:\n",
        "        torch.save(model_person.state_dict(), str(i)+\".torch\")\n",
        "\n",
        "# Display the training loss curve\n",
        "plt.scatter(range(len(losses_list)), losses_list, marker='.')\n",
        "plt.xlabel('Epoch')\n",
        "plt.ylabel('Loss')\n",
        "plt.title('Loss vs Epoch')\n",
        "plt.show()"
      ],
      "metadata": {
        "id": "ZrywdzJamwM-",
        "colab": {
          "base_uri": "https://localhost:8080/",
          "height": 596
        },
        "outputId": "8bfde6f1-cb68-4f86-997e-73f4f620e8fc"
      },
      "execution_count": null,
      "outputs": [
        {
          "output_type": "stream",
          "name": "stderr",
          "text": [
            "/usr/local/lib/python3.10/dist-packages/torchvision/models/_utils.py:208: UserWarning: The parameter 'pretrained' is deprecated since 0.13 and may be removed in the future, please use 'weights' instead.\n",
            "  warnings.warn(\n",
            "/usr/local/lib/python3.10/dist-packages/torchvision/models/_utils.py:223: UserWarning: Arguments other than a weight enum or `None` for 'weights' are deprecated since 0.13 and may be removed in the future. The current behavior is equivalent to passing `weights=MaskRCNN_ResNet50_FPN_Weights.COCO_V1`. You can also use `weights=MaskRCNN_ResNet50_FPN_Weights.DEFAULT` to get the most up-to-date weights.\n",
            "  warnings.warn(msg)\n",
            "Downloading: \"https://download.pytorch.org/models/maskrcnn_resnet50_fpn_coco-bf2d0c1e.pth\" to /root/.cache/torch/hub/checkpoints/maskrcnn_resnet50_fpn_coco-bf2d0c1e.pth\n",
            "100%|██████████| 170M/170M [00:00<00:00, 183MB/s]\n"
          ]
        },
        {
          "output_type": "display_data",
          "data": {
            "text/plain": [
              "<Figure size 640x480 with 1 Axes>"
            ],
            "image/png": "[encoded data removed]"
          },
          "metadata": {}
        }
      ]
    },
    {
      "cell_type": "markdown",
      "source": [
        "### Validation\n",
        "*Note:*\n",
        "\n",
        "*1. Predicted mask files are stored in a new folder under the \"project3\" folder called \"test\".*\n",
        "\n",
        "*2. Pixels of masks displayed in the report have been multiplied by 255 to make the different classes visible. The code below labels each pixel as 0 or 1 in align with the project requirement and the input required by evalseg.m.*"
      ],
      "metadata": {
        "id": "3asd1zYx0x-F"
      }
    },
    {
      "cell_type": "code",
      "source": [
        "def create_mask_from_target(target_dict, output_path):\n",
        "    threshold = 0.75\n",
        "\n",
        "    # Filter predictions based on score threshold.\n",
        "    high_score_indices = target_dict[\"scores\"] > threshold\n",
        "    filtered_labels = target_dict[\"labels\"][high_score_indices].cpu().numpy()\n",
        "    filtered_masks = target_dict[\"masks\"][high_score_indices].cpu().numpy()\n",
        "\n",
        "    # To handle the edge-case where none of the masks cross the threshold when testing on unseen data,\n",
        "    # all available predicted masks are included.\n",
        "    if filtered_labels.size == 0:\n",
        "        filtered_labels = target_dict[\"labels\"].cpu().numpy()\n",
        "        filtered_masks = target_dict[\"masks\"].cpu().numpy()\n",
        "\n",
        "    # Create combined mask.\n",
        "    combined_mask = np.zeros_like(filtered_masks[0], dtype=np.uint8)\n",
        "    for label, mask in zip(filtered_labels, filtered_masks):\n",
        "        combined_mask[mask > 0] = label\n",
        "\n",
        "    # Save the mask image.\n",
        "    combined_mask_pil = Image.fromarray(combined_mask.squeeze(), mode='L')\n",
        "    combined_mask_pil.save(output_path)\n",
        "\n",
        "# Load the final stage of the trained model and set to evaluate.\n",
        "model_person.load_state_dict(torch.load(\"10.torch\")) #INITIALLY 100\n",
        "model_person.to(device)\n",
        "model_person.eval()\n",
        "\n",
        "# Select 10% of images for validation.\n",
        "image_validation_files = all_image_files[300:360]\n",
        "\n",
        "# Iterate through each image.\n",
        "for image in image_validation_files:\n",
        "    images = cv2.imread(os.path.join(\"drive\", \"MyDrive\", \"project3\", \"images\", image))\n",
        "    images = torch.as_tensor(images, dtype=torch.float32) / 255.0\n",
        "    images = images.permute(2,0,1).unsqueeze(0)\n",
        "    images = images.to(device)\n",
        "\n",
        "    # Get the prediction output of the model.\n",
        "    with torch.no_grad():\n",
        "        pred = model_person(images)\n",
        "\n",
        "    # Get the image number and create the appropriate file name and output path.\n",
        "    img_number = image[:-4]\n",
        "    output_path = os.path.join(\"drive\", \"MyDrive\", \"project3\", \"validation\", img_number + \"_person.png\")\n",
        "    create_mask_from_target(pred[0], output_path)"
      ],
      "metadata": {
        "id": "xyfo_m42T9Mi"
      },
      "execution_count": null,
      "outputs": []
    },
    {
      "cell_type": "markdown",
      "source": [
        "### Test\n",
        "*Note:*\n",
        "\n",
        "*1. Predicted mask files are stored in a new folder under the \"project3\" folder called \"test\".*\n",
        "\n",
        "*2. Pixels of masks displayed in the report have been multiplied by 255 to make the different classes visible. The code below labels each pixel as 0 or 1 in align with the project requirement and the input required by evalseg.m.*"
      ],
      "metadata": {
        "id": "YIhO4k8K04Gh"
      }
    },
    {
      "cell_type": "code",
      "source": [
        "def create_mask_from_target(target_dict, output_path):\n",
        "    threshold = 0.75\n",
        "\n",
        "    # Filter predictions based on score threshold.\n",
        "    high_score_indices = target_dict[\"scores\"] > threshold\n",
        "    filtered_labels = target_dict[\"labels\"][high_score_indices].cpu().numpy()\n",
        "    filtered_masks = target_dict[\"masks\"][high_score_indices].cpu().numpy()\n",
        "\n",
        "    # To handle the edge-case where none of the masks cross the threshold when testing on unseen data,\n",
        "    # all available predicted masks are included.\n",
        "    if filtered_labels.size == 0:\n",
        "        filtered_labels = target_dict[\"labels\"].cpu().numpy()\n",
        "        filtered_masks = target_dict[\"masks\"].cpu().numpy()\n",
        "\n",
        "    # Create combined mask.\n",
        "    combined_mask = np.zeros_like(filtered_masks[0], dtype=np.uint8)\n",
        "    for label, mask in zip(filtered_labels, filtered_masks):\n",
        "        combined_mask[mask > 0] = label\n",
        "\n",
        "    # Save the mask image.\n",
        "    combined_mask_pil = Image.fromarray(combined_mask.squeeze(), mode='L')\n",
        "    combined_mask_pil.save(output_path)\n",
        "\n",
        "# Load the final stage of the trained model and set to evaluate.\n",
        "model_person.load_state_dict(torch.load(\"10.torch\")) #INITIALLY 100\n",
        "model_person.to(device)\n",
        "model_person.eval()\n",
        "\n",
        "# Select 40% of images for testing.\n",
        "image_validation_files = all_image_files[360:]\n",
        "\n",
        "# Iterate through each image.\n",
        "for image in image_validation_files:\n",
        "    images = cv2.imread(os.path.join(\"drive\", \"MyDrive\", \"project3\", \"images\", image))\n",
        "    images = torch.as_tensor(images, dtype=torch.float32) / 255.0\n",
        "    images = images.permute(2,0,1).unsqueeze(0)\n",
        "    images = images.to(device)\n",
        "\n",
        "    # Get the prediction output of the model.\n",
        "    with torch.no_grad():\n",
        "        pred = model_person(images)\n",
        "\n",
        "    # Get the image number and create the appropriate file name and output path.\n",
        "    img_number = image[:-4]\n",
        "    output_path = os.path.join(\"drive\", \"MyDrive\", \"project3\", \"test\", img_number + \"_person.png\")\n",
        "    create_mask_from_target(pred[0], output_path)"
      ],
      "metadata": {
        "id": "HZcnLV83k4VF"
      },
      "execution_count": null,
      "outputs": []
    },
    {
      "cell_type": "markdown",
      "source": [
        "## Pixel Labeling of Clothing Items"
      ],
      "metadata": {
        "id": "wnwORB8p0nHj"
      }
    },
    {
      "cell_type": "markdown",
      "source": [
        "### Model"
      ],
      "metadata": {
        "id": "vN4RoFqi08Rg"
      }
    },
    {
      "cell_type": "code",
      "source": [
        "# Mask R-CNN model from the torchvision library with pre-trained weights is loaded.\n",
        "model_clothes = torchvision.models.detection.maskrcnn_resnet50_fpn(pretrained=True)\n",
        "# Number of input features for the classifier.\n",
        "in_features = model_clothes.roi_heads.box_predictor.cls_score.in_features\n",
        "# There are seven classes in this model including 'background'.\n",
        "model_clothes.roi_heads.box_predictor = FastRCNNPredictor(in_features,num_classes=7)\n",
        "model_clothes.to(device)\n",
        "\n",
        "# Initialize an AdamW optimizer for updating the parameters of the model.\n",
        "optimizer = torch.optim.AdamW(params=model_clothes.parameters(), lr=0.0001)\n",
        "\n",
        "model_clothes.train()\n",
        "\n",
        "# List to store loss values to be used in displaying the learning curve.\n",
        "losses_list = []\n",
        "\n",
        "#Iterate through each epoch.\n",
        "for i in range(11): #INITIALLY SET TO 501\n",
        "    #Randomly select 10 images from the training set.\n",
        "    random_numbers = [random.randint(0, 299) for x in range(10)]\n",
        "    curr_imgs_training = [imgs_training[j] for j in random_numbers]\n",
        "    images = list(image.to(device) for image in curr_imgs_training)\n",
        "    curr_targets_clothes_training = [targets_clothes_training[j] for j in random_numbers]\n",
        "    targets = [{k: v.to(device) for k, v in t.items()} for t in curr_targets_clothes_training]\n",
        "\n",
        "    # Reset the gradients of the parameter to prepare for the next batch.\n",
        "    optimizer.zero_grad()\n",
        "\n",
        "    # Forward pass to get the loss.\n",
        "    loss_dict = model_clothes(images, targets)\n",
        "\n",
        "    # Calculate the total loss.\n",
        "    losses = sum(loss for loss in loss_dict.values())\n",
        "\n",
        "    # Backward pass to calculate the gradients.\n",
        "    losses.backward()\n",
        "\n",
        "    # Take a single optimization step to update the model parameters based on computed gradients and the optimizer's update rule.\n",
        "    optimizer.step()\n",
        "    losses_list.append(losses.item())\n",
        "    if i%10==0:\n",
        "        torch.save(model_clothes.state_dict(), str(i)+\".torch\")\n",
        "\n",
        "# Display the training loss curve\n",
        "plt.scatter(range(len(losses_list)), losses_list, marker='.')\n",
        "plt.xlabel('Epoch')\n",
        "plt.ylabel('Loss')\n",
        "plt.title('Loss vs Epoch')\n",
        "plt.show()"
      ],
      "metadata": {
        "id": "AH8_zNaf31z0",
        "colab": {
          "base_uri": "https://localhost:8080/",
          "height": 472
        },
        "outputId": "a5755934-fb70-4d2e-92eb-cd2328cc8482"
      },
      "execution_count": null,
      "outputs": [
        {
          "output_type": "display_data",
          "data": {
            "text/plain": [
              "<Figure size 640x480 with 1 Axes>"
            ],
            "image/png": "[encoded data removed]"
          },
          "metadata": {}
        }
      ]
    },
    {
      "cell_type": "markdown",
      "source": [
        "### Validation\n",
        "*Note:*\n",
        "\n",
        "*1. Predicted mask files are stored in a new folder under the \"project3\" folder called \"test\".*\n",
        "\n",
        "*2. Pixels of masks displayed in the report have been multiplied by 255 to make the different classes visible. The code below labels each pixel between 0-6 in align with the project requirement and the input required by evalseg.m.*"
      ],
      "metadata": {
        "id": "FGxDb0Wn0-Qq"
      }
    },
    {
      "cell_type": "code",
      "source": [
        "def create_mask_from_target(target_dict, output_path):\n",
        "    threshold = 0.75\n",
        "\n",
        "    # Filter predictions based on score threshold.\n",
        "    high_score_indices = target_dict[\"scores\"] > threshold\n",
        "    filtered_labels = target_dict[\"labels\"][high_score_indices].cpu().numpy()\n",
        "    filtered_masks = target_dict[\"masks\"][high_score_indices].cpu().numpy()\n",
        "\n",
        "    # To handle the edge-case where none of the masks cross the threshold when testing on unseen data,\n",
        "    # all available predicted masks are included.\n",
        "    if filtered_labels.size == 0:\n",
        "        filtered_labels = target_dict[\"labels\"].cpu().numpy()\n",
        "        filtered_masks = target_dict[\"masks\"].cpu().numpy()\n",
        "\n",
        "    # Create combined mask.\n",
        "    combined_mask = np.zeros_like(filtered_masks[0], dtype=np.uint8)\n",
        "    for label, mask in zip(filtered_labels, filtered_masks):\n",
        "        combined_mask[mask > 0] = label\n",
        "\n",
        "    # Save the mask image.\n",
        "    combined_mask_pil = Image.fromarray(combined_mask.squeeze(), mode='L')\n",
        "    combined_mask_pil.save(output_path)\n",
        "\n",
        "# Load the final stage of the trained model and set to evaluate.\n",
        "model_clothes.load_state_dict(torch.load(\"10.torch\")) #INITALLY SET TO 500\n",
        "model_clothes.to(device)\n",
        "model_clothes.eval()\n",
        "\n",
        "# Select 10% of images for validation.\n",
        "image_validation_files = all_image_files[300:360]\n",
        "\n",
        "# Iterate through each image.\n",
        "for image in image_validation_files:\n",
        "    images = cv2.imread(os.path.join(\"drive\", \"MyDrive\", \"project3\", \"images\", image))\n",
        "    images = torch.as_tensor(images, dtype=torch.float32) / 255.0\n",
        "    images = images.permute(2,0,1).unsqueeze(0)\n",
        "    images = images.to(device)\n",
        "\n",
        "    # Get the prediction output of the model.\n",
        "    with torch.no_grad():\n",
        "        pred = model_clothes(images)\n",
        "\n",
        "    # Get the image number and create the appropriate file name and output path.\n",
        "    img_number = image[:-4]\n",
        "    output_path = os.path.join(\"drive\", \"MyDrive\", \"project3\", \"validation\", img_number + \"_clothes.png\")\n",
        "    create_mask_from_target(pred[0], output_path)"
      ],
      "metadata": {
        "id": "A5CQjlEl4KCd"
      },
      "execution_count": null,
      "outputs": []
    },
    {
      "cell_type": "markdown",
      "source": [
        "### Test\n",
        "*Note:*\n",
        "\n",
        "*1. Predicted mask files are stored in a new folder under the \"project3\" folder called \"test\".*\n",
        "\n",
        "*2. Pixels of masks displayed in the report have been multiplied by 255 to make the different classes visible. The code below labels each pixel between 0-6 in align with the project requirement and the input required by evalseg.m.*"
      ],
      "metadata": {
        "id": "s7FxpXje1CCc"
      }
    },
    {
      "cell_type": "code",
      "source": [
        "def create_mask_from_target(target_dict, output_path):\n",
        "    threshold = 0.75\n",
        "\n",
        "    # Filter predictions based on score threshold.\n",
        "    high_score_indices = target_dict[\"scores\"] > threshold\n",
        "    filtered_labels = target_dict[\"labels\"][high_score_indices].cpu().numpy()\n",
        "    filtered_masks = target_dict[\"masks\"][high_score_indices].cpu().numpy()\n",
        "\n",
        "    # To handle the edge-case where none of the masks cross the threshold when testing on unseen data,\n",
        "    # all available predicted masks are included.\n",
        "    if filtered_labels.size == 0:\n",
        "        filtered_labels = target_dict[\"labels\"].cpu().numpy()\n",
        "        filtered_masks = target_dict[\"masks\"].cpu().numpy()\n",
        "\n",
        "    # Create combined mask.\n",
        "    combined_mask = np.zeros_like(filtered_masks[0], dtype=np.uint8)\n",
        "    for label, mask in zip(filtered_labels, filtered_masks):\n",
        "        combined_mask[mask > 0] = label\n",
        "\n",
        "    # Save the mask image.\n",
        "    combined_mask_pil = Image.fromarray(combined_mask.squeeze(), mode='L')\n",
        "    combined_mask_pil.save(output_path)\n",
        "\n",
        "# Load the final stage of the trained model and set to evaluate.\n",
        "model_clothes.load_state_dict(torch.load(\"10.torch\")) #INITALLY SET TO 500\n",
        "model_clothes.to(device)\n",
        "model_clothes.eval()\n",
        "\n",
        "# Select 40% of images for testing.\n",
        "image_validation_files = all_image_files[360:]\n",
        "\n",
        "# Iterate through each image.\n",
        "for image in image_validation_files:\n",
        "    images = cv2.imread(os.path.join(\"drive\", \"MyDrive\", \"project3\", \"images\", image))\n",
        "    images = torch.as_tensor(images, dtype=torch.float32) / 255.0\n",
        "    images = images.permute(2,0,1).unsqueeze(0)\n",
        "    images = images.to(device)\n",
        "\n",
        "    # Get the prediction output of the model.\n",
        "    with torch.no_grad():\n",
        "        pred = model_clothes(images)\n",
        "\n",
        "    # Get the image number and create the appropriate file name and output path.\n",
        "    img_number = image[:-4]\n",
        "    output_path = os.path.join(\"drive\", \"MyDrive\", \"project3\", \"test\", img_number + \"_clothes.png\")\n",
        "    create_mask_from_target(pred[0], output_path)"
      ],
      "metadata": {
        "id": "9ssZSfZtlAI5"
      },
      "execution_count": null,
      "outputs": []
    },
    {
      "cell_type": "markdown",
      "source": [
        "## References\n",
        "\n",
        "\n",
        "---\n",
        "\n",
        "\n",
        "\n",
        "*Note: The mask R-CNN model provided in the PyTorch’s torchvision package was used in the code to build the model and described in detail in the report. References that have been included below of coding tutorials were mostly used to develop an understanding of the package and the model before adapting the information for the specific use of this project. Special focus was given to not copy any sections of code directly.*\n",
        "\n",
        "[1] G. Gkioxari, K. He, P. Dollar, and R. Girshick, \"Mask R-CNN,\" Facebook AI Research (FAIR), January 2018.\n",
        "\n",
        "[2] G. Patterson, J. Hays, L. Bourdev, L. Zitnick, M. R. Ronchi, M. Maire, R. Girshick, S. Belongie, T. Lin, P. Perona, D. Ramanan, P. Dollar, and Y. Cui, \"What is COCO?\", COCO, 2015. [Online]. Available: https://cocodataset.org/#home. [Accessed: April, 2024].\n",
        "\n",
        "[3] K. Yamaguchi, M. H. Kiapour, L. E. Ortiz, T. L. Berg. “Parsing Clothing in Fashion Photographs,” CVPR, 2012.\n",
        "\n",
        "[4] P. Potrimba, \"What is Mask R-CNN? The Ultimate Guide.\" Roboflow, 2023. [Online]. Available: https://blog.roboflow.com/mask-rcnn/. [Accessed: April, 2024].\n",
        "\n",
        "[5] PyTorch, \"maskrcnn_resnet50_fpn,\" PyTorch, 2017. [Online]. Available: https://pytorch.org/vision/main/models/generated/torchvision.models.detection.maskrcnn_resnet50_fpn.html. [Accessed: April, 2024].\n",
        "\n",
        "[6] PyTorch, \"Visualization utilities,\" PyTorch, 2017. [Online]. Available: https://pytorch.org/vision/main/models/generated/torchvision.models.detection.maskrcnn_resnet50_fpn.html. [Accessed: April, 2024].\n",
        "\n",
        "[7] PyTorch, \"TorchVision Object Detection Finetuning Tutorial,\" PyTorch, 2017. [Online]. Available: https://pytorch.org/vision/main/models/generated/torchvision.models.detection.maskrcnn_resnet50_fpn.html. [Accessed: April, 2024].\n",
        "\n",
        "[8] S. Eppel, \"Train Mask R-CNN Net for Object Detection in 60 Lines of Code,\" Towards Data Science, 2022. [Online]. Available: https://towardsdatascience.com/train-mask-rcnn-net-for-object-detection-in-60-lines-of-code-9b6bbff292c3. [Accessed: April, 2024].\n"
      ],
      "metadata": {
        "id": "GdLYhiquzPvz"
      }
    }
  ]
}